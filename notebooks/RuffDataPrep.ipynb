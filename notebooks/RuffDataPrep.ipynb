{
 "cells": [
  {
   "cell_type": "code",
   "execution_count": 2,
   "metadata": {},
   "outputs": [],
   "source": [
    "import pandas as pd\n",
    "import numpy as np"
   ]
  },
  {
   "cell_type": "code",
   "execution_count": 6,
   "metadata": {},
   "outputs": [
    {
     "data": {
      "text/plain": [
       "(3466, 2)"
      ]
     },
     "execution_count": 6,
     "metadata": {},
     "output_type": "execute_result"
    }
   ],
   "source": [
    "df22 =  pd.read_csv(\"data/IBW.csv\")\n",
    "df22.shape"
   ]
  },
  {
   "cell_type": "code",
   "execution_count": 8,
   "metadata": {},
   "outputs": [
    {
     "data": {
      "text/html": [
       "<div>\n",
       "<style scoped>\n",
       "    .dataframe tbody tr th:only-of-type {\n",
       "        vertical-align: middle;\n",
       "    }\n",
       "\n",
       "    .dataframe tbody tr th {\n",
       "        vertical-align: top;\n",
       "    }\n",
       "\n",
       "    .dataframe thead th {\n",
       "        text-align: right;\n",
       "    }\n",
       "</style>\n",
       "<table border=\"1\" class=\"dataframe\">\n",
       "  <thead>\n",
       "    <tr style=\"text-align: right;\">\n",
       "      <th></th>\n",
       "      <th>Unnamed: 0</th>\n",
       "      <th>Phrase</th>\n",
       "    </tr>\n",
       "  </thead>\n",
       "  <tbody>\n",
       "    <tr>\n",
       "      <th>0</th>\n",
       "      <td>0</td>\n",
       "      <td>Bessha</td>\n",
       "    </tr>\n",
       "    <tr>\n",
       "      <th>1</th>\n",
       "      <td>1</td>\n",
       "      <td>bhuski maagi</td>\n",
       "    </tr>\n",
       "    <tr>\n",
       "      <th>2</th>\n",
       "      <td>2</td>\n",
       "      <td>Bichi Chara Potla</td>\n",
       "    </tr>\n",
       "    <tr>\n",
       "      <th>3</th>\n",
       "      <td>3</td>\n",
       "      <td>Bodmash</td>\n",
       "    </tr>\n",
       "    <tr>\n",
       "      <th>4</th>\n",
       "      <td>4</td>\n",
       "      <td>Boga</td>\n",
       "    </tr>\n",
       "  </tbody>\n",
       "</table>\n",
       "</div>"
      ],
      "text/plain": [
       "   Unnamed: 0             Phrase\n",
       "0           0             Bessha\n",
       "1           1       bhuski maagi\n",
       "2           2  Bichi Chara Potla\n",
       "3           3            Bodmash\n",
       "4           4               Boga"
      ]
     },
     "execution_count": 8,
     "metadata": {},
     "output_type": "execute_result"
    }
   ],
   "source": [
    "df22.head()"
   ]
  },
  {
   "cell_type": "code",
   "execution_count": 19,
   "metadata": {},
   "outputs": [
    {
     "name": "stdout",
     "output_type": "stream",
     "text": [
      "['india', 'love', 'japan']\n"
     ]
    },
    {
     "data": {
      "text/html": [
       "<div>\n",
       "<style scoped>\n",
       "    .dataframe tbody tr th:only-of-type {\n",
       "        vertical-align: middle;\n",
       "    }\n",
       "\n",
       "    .dataframe tbody tr th {\n",
       "        vertical-align: top;\n",
       "    }\n",
       "\n",
       "    .dataframe thead th {\n",
       "        text-align: right;\n",
       "    }\n",
       "</style>\n",
       "<table border=\"1\" class=\"dataframe\">\n",
       "  <thead>\n",
       "    <tr style=\"text-align: right;\">\n",
       "      <th></th>\n",
       "      <th>0</th>\n",
       "    </tr>\n",
       "  </thead>\n",
       "  <tbody>\n",
       "    <tr>\n",
       "      <th>0</th>\n",
       "      <td>0000000000i*ndi*a@</td>\n",
       "    </tr>\n",
       "    <tr>\n",
       "      <th>1</th>\n",
       "      <td>000000000.i*ndi*a@</td>\n",
       "    </tr>\n",
       "    <tr>\n",
       "      <th>2</th>\n",
       "      <td>0000000000i*ndi*a@</td>\n",
       "    </tr>\n",
       "    <tr>\n",
       "      <th>3</th>\n",
       "      <td>00000000.0i*ndi*a@</td>\n",
       "    </tr>\n",
       "    <tr>\n",
       "      <th>4</th>\n",
       "      <td>00000000..i*ndi*a@</td>\n",
       "    </tr>\n",
       "    <tr>\n",
       "      <th>...</th>\n",
       "      <td>...</td>\n",
       "    </tr>\n",
       "    <tr>\n",
       "      <th>177142</th>\n",
       "      <td>00000000..ja@pa@n</td>\n",
       "    </tr>\n",
       "    <tr>\n",
       "      <th>177143</th>\n",
       "      <td>00000000.0ja@pa@n</td>\n",
       "    </tr>\n",
       "    <tr>\n",
       "      <th>177144</th>\n",
       "      <td>0000000000ja@pa@n</td>\n",
       "    </tr>\n",
       "    <tr>\n",
       "      <th>177145</th>\n",
       "      <td>000000000.ja@pa@n</td>\n",
       "    </tr>\n",
       "    <tr>\n",
       "      <th>177146</th>\n",
       "      <td>0000000000ja@pa@n</td>\n",
       "    </tr>\n",
       "  </tbody>\n",
       "</table>\n",
       "<p>177147 rows × 1 columns</p>\n",
       "</div>"
      ],
      "text/plain": [
       "                         0\n",
       "0       0000000000i*ndi*a@\n",
       "1       000000000.i*ndi*a@\n",
       "2       0000000000i*ndi*a@\n",
       "3       00000000.0i*ndi*a@\n",
       "4       00000000..i*ndi*a@\n",
       "...                    ...\n",
       "177142   00000000..ja@pa@n\n",
       "177143   00000000.0ja@pa@n\n",
       "177144   0000000000ja@pa@n\n",
       "177145   000000000.ja@pa@n\n",
       "177146   0000000000ja@pa@n\n",
       "\n",
       "[177147 rows x 1 columns]"
      ]
     },
     "execution_count": 19,
     "metadata": {},
     "output_type": "execute_result"
    }
   ],
   "source": [
    "from itertools import product\n",
    "import pandas as pd\n",
    "import numpy as np\n",
    "REPLACE = {'a': '@', 'i': '*', 'o': '*', 'u': '*', 'v': '*', \n",
    " 'l': '1', 'e': '*', 's': '$', 't': '7'}\n",
    "\n",
    "def Leet2Combos(word):\n",
    "    possibles = np.zeros(shape=(5,2))\n",
    "    for l in word.lower():\n",
    "        ll = REPLACE.get(l, l)\n",
    "        possibles = np.append(possibles, (l,) if ll == l else (l, ll) )\n",
    "    return [ ''.join(t) for t in product(*possibles) ]\n",
    "s=\"\"\"india\n",
    "love\n",
    "japan\"\"\"\n",
    "\n",
    "words = s.split('\\n')\n",
    "print(words)\n",
    "lst= np.array([])\n",
    "# ['Chodon Boiraagi', 'Chodon Idli', 'chood']\n",
    "for word in words:\n",
    "    lst = np.append(lst,Leet2Combos(word))\n",
    "    k = pd.DataFrame(lst)\n",
    "k"
   ]
  },
  {
   "cell_type": "code",
   "execution_count": 14,
   "metadata": {},
   "outputs": [],
   "source": []
  },
  {
   "cell_type": "code",
   "execution_count": 12,
   "metadata": {},
   "outputs": [
    {
     "ename": "AttributeError",
     "evalue": "module 'pandas.compat' has no attribute 'StringIO'",
     "output_type": "error",
     "traceback": [
      "\u001b[0;31m---------------------------------------------------------------------------\u001b[0m",
      "\u001b[0;31mAttributeError\u001b[0m                            Traceback (most recent call last)",
      "\u001b[0;32m<ipython-input-12-75c3504eeb6a>\u001b[0m in \u001b[0;36m<module>\u001b[0;34m\u001b[0m\n\u001b[1;32m      1\u001b[0m \u001b[0;32mfrom\u001b[0m \u001b[0mpandas\u001b[0m \u001b[0;32mimport\u001b[0m \u001b[0;34m*\u001b[0m\u001b[0;34m\u001b[0m\u001b[0;34m\u001b[0m\u001b[0m\n\u001b[1;32m      2\u001b[0m \u001b[0;32mimport\u001b[0m \u001b[0mpandas\u001b[0m \u001b[0;32mas\u001b[0m \u001b[0mpd\u001b[0m\u001b[0;34m\u001b[0m\u001b[0;34m\u001b[0m\u001b[0m\n\u001b[0;32m----> 3\u001b[0;31m \u001b[0mdata\u001b[0m \u001b[0;34m=\u001b[0m \u001b[0mpd\u001b[0m\u001b[0;34m.\u001b[0m\u001b[0mcompat\u001b[0m\u001b[0;34m.\u001b[0m\u001b[0mStringIO\u001b[0m\u001b[0;34m(\u001b[0m\u001b[0ms\u001b[0m\u001b[0;34m)\u001b[0m\u001b[0;34m\u001b[0m\u001b[0;34m\u001b[0m\u001b[0m\n\u001b[0m\u001b[1;32m      4\u001b[0m \u001b[0mdf\u001b[0m \u001b[0;34m=\u001b[0m \u001b[0mpd\u001b[0m\u001b[0;34m.\u001b[0m\u001b[0mread_csv\u001b[0m\u001b[0;34m(\u001b[0m\u001b[0mdata\u001b[0m\u001b[0;34m,\u001b[0m \u001b[0msep\u001b[0m\u001b[0;34m=\u001b[0m\u001b[0;34m\"\\n\"\u001b[0m\u001b[0;34m)\u001b[0m\u001b[0;34m\u001b[0m\u001b[0;34m\u001b[0m\u001b[0m\n",
      "\u001b[0;31mAttributeError\u001b[0m: module 'pandas.compat' has no attribute 'StringIO'"
     ]
    }
   ],
   "source": [
    "from pandas import *\n",
    "import pandas as pd\n",
    "\n",
    "df = pd.read_csv(data, sep=\"\\n\")\n"
   ]
  },
  {
   "cell_type": "code",
   "execution_count": 5,
   "metadata": {},
   "outputs": [
    {
     "name": "stdout",
     "output_type": "stream",
     "text": [
      "Collecting pip\n",
      "  Using cached pip-21.1.1-py3-none-any.whl (1.5 MB)\n",
      "Installing collected packages: pip\n",
      "  Attempting uninstall: pip\n",
      "    Found existing installation: pip 20.2.4\n",
      "    Uninstalling pip-20.2.4:\n",
      "      Successfully uninstalled pip-20.2.4\n",
      "Successfully installed pip-21.1.1\n",
      "Collecting pandas-datareader\n",
      "  Downloading pandas_datareader-0.9.0-py3-none-any.whl (107 kB)\n",
      "\u001b[K     |████████████████████████████████| 107 kB 216 kB/s eta 0:00:01\n",
      "\u001b[?25hRequirement already satisfied: requests>=2.19.0 in /home/vivek/anaconda3/lib/python3.8/site-packages (from pandas-datareader) (2.24.0)\n",
      "Requirement already satisfied: lxml in /home/vivek/anaconda3/lib/python3.8/site-packages (from pandas-datareader) (4.6.1)\n",
      "Requirement already satisfied: pandas>=0.23 in /home/vivek/anaconda3/lib/python3.8/site-packages (from pandas-datareader) (1.1.3)\n",
      "Requirement already satisfied: pytz>=2017.2 in /home/vivek/anaconda3/lib/python3.8/site-packages (from pandas>=0.23->pandas-datareader) (2020.1)\n",
      "Requirement already satisfied: python-dateutil>=2.7.3 in /home/vivek/anaconda3/lib/python3.8/site-packages (from pandas>=0.23->pandas-datareader) (2.8.1)\n",
      "Requirement already satisfied: numpy>=1.15.4 in /home/vivek/anaconda3/lib/python3.8/site-packages (from pandas>=0.23->pandas-datareader) (1.19.2)\n",
      "Requirement already satisfied: six>=1.5 in /home/vivek/anaconda3/lib/python3.8/site-packages (from python-dateutil>=2.7.3->pandas>=0.23->pandas-datareader) (1.15.0)\n",
      "Requirement already satisfied: certifi>=2017.4.17 in /home/vivek/anaconda3/lib/python3.8/site-packages (from requests>=2.19.0->pandas-datareader) (2020.6.20)\n",
      "Requirement already satisfied: urllib3!=1.25.0,!=1.25.1,<1.26,>=1.21.1 in /home/vivek/anaconda3/lib/python3.8/site-packages (from requests>=2.19.0->pandas-datareader) (1.25.11)\n",
      "Requirement already satisfied: idna<3,>=2.5 in /home/vivek/anaconda3/lib/python3.8/site-packages (from requests>=2.19.0->pandas-datareader) (2.10)\n",
      "Requirement already satisfied: chardet<4,>=3.0.2 in /home/vivek/anaconda3/lib/python3.8/site-packages (from requests>=2.19.0->pandas-datareader) (3.0.4)\n",
      "Installing collected packages: pandas-datareader\n",
      "Successfully installed pandas-datareader-0.9.0\n"
     ]
    }
   ],
   "source": [
    "!pip install --upgrade pip\n",
    "!pip install pandas-datareader"
   ]
  },
  {
   "cell_type": "code",
   "execution_count": null,
   "metadata": {},
   "outputs": [],
   "source": []
  }
 ],
 "metadata": {
  "kernelspec": {
   "display_name": "Python 3",
   "language": "python",
   "name": "python3"
  },
  "language_info": {
   "codemirror_mode": {
    "name": "ipython",
    "version": 3
   },
   "file_extension": ".py",
   "mimetype": "text/x-python",
   "name": "python",
   "nbconvert_exporter": "python",
   "pygments_lexer": "ipython3",
   "version": "3.8.5"
  }
 },
 "nbformat": 4,
 "nbformat_minor": 4
}
