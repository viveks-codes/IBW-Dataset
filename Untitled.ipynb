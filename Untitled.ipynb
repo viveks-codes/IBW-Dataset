{
 "cells": [
  {
   "cell_type": "code",
   "execution_count": 1,
   "metadata": {},
   "outputs": [],
   "source": [
    "# scrapping from \n",
    "import pandas as pd \n",
    "df1  =  pd.read_csv(\"data/bangali.csv\")\n",
    "df2  =  pd.read_csv(\"data/bangali2.csv\")\n",
    "df3  =  pd.read_csv(\"data/bangla.csv\")\n",
    "df4  =  pd.read_csv(\"data/bihari.csv\")\n",
    "df5  =  pd.read_csv(\"data/gujrati.csv\")\n",
    "df6  =  pd.read_csv(\"data/haryanvi.csv\")\n",
    "df7  =  pd.read_csv(\"data/hindi2.csv\")\n",
    "df8  =  pd.read_csv(\"data/hindi3.csv\")\n",
    "df9  =  pd.read_csv(\"data/hindi.csv\")\n",
    "df10 =  pd.read_csv(\"data/indian.csv\")\n",
    "df11 =  pd.read_csv(\"data/kannada.csv\")\n",
    "df12 =  pd.read_csv(\"data/kashmiri.csv\")\n",
    "df13 =  pd.read_csv(\"data/kashmiri1.csv\")\n",
    "df14 =  pd.read_csv(\"data/maldivs.csv\")\n",
    "df15 =  pd.read_csv(\"data/malyalam.csv\")\n",
    "df16 =  pd.read_csv(\"data/marathi.csv\")\n",
    "df17 =  pd.read_csv(\"data/oriya.csv\")\n",
    "df18 =  pd.read_csv(\"data/punjabji.csv\")\n",
    "df19 =  pd.read_csv(\"data/punjabji2.csv\")\n",
    "df20 =  pd.read_csv(\"data/telugu.csv\")\n",
    "df21 =  pd.read_csv(\"data/urdu.csv\")"
   ]
  },
  {
   "cell_type": "code",
   "execution_count": 2,
   "metadata": {},
   "outputs": [],
   "source": [
    "finaldf = df1.append([df2,df3,df4,df5,df6 ,df7 , df8, df9, df10, df11,df12,df13,df14,df15,df16,df17,df18,df19,df20,df21], ignore_index = True)"
   ]
  },
  {
   "cell_type": "code",
   "execution_count": 7,
   "metadata": {},
   "outputs": [
    {
     "data": {
      "text/html": [
       "<div>\n",
       "<style scoped>\n",
       "    .dataframe tbody tr th:only-of-type {\n",
       "        vertical-align: middle;\n",
       "    }\n",
       "\n",
       "    .dataframe tbody tr th {\n",
       "        vertical-align: top;\n",
       "    }\n",
       "\n",
       "    .dataframe thead th {\n",
       "        text-align: right;\n",
       "    }\n",
       "</style>\n",
       "<table border=\"1\" class=\"dataframe\">\n",
       "  <thead>\n",
       "    <tr style=\"text-align: right;\">\n",
       "      <th></th>\n",
       "      <th>Phrase</th>\n",
       "      <th>Meaning</th>\n",
       "      <th>Is This Accurate?</th>\n",
       "    </tr>\n",
       "  </thead>\n",
       "  <tbody>\n",
       "    <tr>\n",
       "      <th>0</th>\n",
       "      <td>Bain Chod</td>\n",
       "      <td>Sister fucker</td>\n",
       "      <td>(10%) (1%)</td>\n",
       "    </tr>\n",
       "    <tr>\n",
       "      <th>1</th>\n",
       "      <td>Bainchod</td>\n",
       "      <td>Sister Fucker</td>\n",
       "      <td>(10%) (0%)</td>\n",
       "    </tr>\n",
       "    <tr>\n",
       "      <th>2</th>\n",
       "      <td>Bassa Shouko</td>\n",
       "      <td>smell my ass</td>\n",
       "      <td>(9%) (9%)</td>\n",
       "    </tr>\n",
       "    <tr>\n",
       "      <th>3</th>\n",
       "      <td>chodnar po</td>\n",
       "      <td>son of bitch</td>\n",
       "      <td>(10%) (0%)</td>\n",
       "    </tr>\n",
       "    <tr>\n",
       "      <th>4</th>\n",
       "      <td>Gud-marani</td>\n",
       "      <td>fucker</td>\n",
       "      <td>(0%) (0%)</td>\n",
       "    </tr>\n",
       "  </tbody>\n",
       "</table>\n",
       "</div>"
      ],
      "text/plain": [
       "         Phrase        Meaning Is This Accurate?\n",
       "0     Bain Chod  Sister fucker        (10%) (1%)\n",
       "1      Bainchod  Sister Fucker        (10%) (0%)\n",
       "2  Bassa Shouko   smell my ass         (9%) (9%)\n",
       "3    chodnar po   son of bitch        (10%) (0%)\n",
       "4    Gud-marani         fucker         (0%) (0%)"
      ]
     },
     "execution_count": 7,
     "metadata": {},
     "output_type": "execute_result"
    }
   ],
   "source": [
    "df2.head()"
   ]
  },
  {
   "cell_type": "code",
   "execution_count": 8,
   "metadata": {},
   "outputs": [
    {
     "data": {
      "text/plain": [
       "(114, 3)"
      ]
     },
     "execution_count": 8,
     "metadata": {},
     "output_type": "execute_result"
    }
   ],
   "source": [
    "df1.shape"
   ]
  },
  {
   "cell_type": "code",
   "execution_count": 9,
   "metadata": {},
   "outputs": [
    {
     "data": {
      "text/plain": [
       "(26, 3)"
      ]
     },
     "execution_count": 9,
     "metadata": {},
     "output_type": "execute_result"
    }
   ],
   "source": [
    "df2.shape"
   ]
  },
  {
   "cell_type": "code",
   "execution_count": 10,
   "metadata": {},
   "outputs": [
    {
     "data": {
      "text/plain": [
       "(43, 3)"
      ]
     },
     "execution_count": 10,
     "metadata": {},
     "output_type": "execute_result"
    }
   ],
   "source": [
    "df3.shape"
   ]
  },
  {
   "cell_type": "code",
   "execution_count": 11,
   "metadata": {},
   "outputs": [
    {
     "data": {
      "text/plain": [
       "<bound method DataFrame.info of                        Phrase                      Meaning Is This Accurate?\n",
       "0    \"KUTH-TII\" (or) \"KUTTII\"                        Bitch         (0%) (0%)\n",
       "1          AAGA (or) GUUUUUUU                         Shit         (1%) (0%)\n",
       "2              amar nunu chat                Suck my dick!         (1%) (1%)\n",
       "3        Ami Tumarae Khortham                 I Wanna Do U         (0%) (0%)\n",
       "4                       Ashiq                   Penis Hair        (7%) (26%)\n",
       "..                        ...                          ...               ...\n",
       "109            tu ekta bandar  Your a dumbass/monkey/idiot        (10%) (2%)\n",
       "110           Tur booga sooto          Your dick is small.         (1%) (1%)\n",
       "111        tur mar booni khaa          suck your mums tits         (1%) (1%)\n",
       "112            tuy ath marros                your a wanker         (1%) (0%)\n",
       "113                   Vogchod                         fool        (10%) (3%)\n",
       "\n",
       "[114 rows x 3 columns]>"
      ]
     },
     "execution_count": 11,
     "metadata": {},
     "output_type": "execute_result"
    }
   ],
   "source": [
    "df1.info"
   ]
  },
  {
   "cell_type": "code",
   "execution_count": 13,
   "metadata": {},
   "outputs": [
    {
     "data": {
      "text/plain": [
       "<bound method DataFrame.info of                         Phrase                           Meaning  \\\n",
       "0                    Bain Chod                     Sister fucker   \n",
       "1                     Bainchod                     Sister Fucker   \n",
       "2                 Bassa Shouko                      smell my ass   \n",
       "3                   chodnar po                      son of bitch   \n",
       "4                   Gud-marani                            fucker   \n",
       "5                        hagoo                              shit   \n",
       "6                        Hijra                          Homo/gay   \n",
       "7                         Hoga                               Ass   \n",
       "8                 Khankir pola                    Son of a whore   \n",
       "9               Kuthaar Baicha                      Son of a Dog   \n",
       "10              Kuttar Bachcha                    Son of a bitch   \n",
       "11              kuttar bachcha                    son of a bitch   \n",
       "12                       Leura                              Dick   \n",
       "13                        Magi                        Whore/Slut   \n",
       "14                         Mai                              Tits   \n",
       "15                      makhal                             crazy   \n",
       "16                    muri kha                  go fuck yourself   \n",
       "17                  Noakhailla                             Loser   \n",
       "18                  randi magi                             whore   \n",
       "19       thor maa khai lai moo               i will eat your mum   \n",
       "20    thor maar bosoi khai see              i ate your mums dick   \n",
       "21  Tomar maar putkey fatamu .          I will blast ur mums ass   \n",
       "22      Tor babar bichi fatabo  I will crack your father's balls   \n",
       "23            Tor mar sawa kha              Eat your mothers cum   \n",
       "24              tor mare chudi                     fuck your mom   \n",
       "25          tur ma amar fel be          your mum is my dick yeah   \n",
       "\n",
       "   Is This Accurate?  \n",
       "0         (10%) (1%)  \n",
       "1         (10%) (0%)  \n",
       "2          (9%) (9%)  \n",
       "3         (10%) (0%)  \n",
       "4          (0%) (0%)  \n",
       "5          (0%) (0%)  \n",
       "6          (9%) (9%)  \n",
       "7        (0%) (100%)  \n",
       "8          (0%) (0%)  \n",
       "9         (10%) (0%)  \n",
       "10         (0%) (0%)  \n",
       "11        (9%) (13%)  \n",
       "12         (9%) (9%)  \n",
       "13         (0%) (0%)  \n",
       "14         (0%) (0%)  \n",
       "15         (1%) (2%)  \n",
       "16       (0%) (100%)  \n",
       "17        (10%) (3%)  \n",
       "18         (0%) (0%)  \n",
       "19       (0%) (100%)  \n",
       "20         (0%) (0%)  \n",
       "21         (1%) (0%)  \n",
       "22         (0%) (0%)  \n",
       "23        (10%) (0%)  \n",
       "24        (10%) (0%)  \n",
       "25       (0%) (100%)  >"
      ]
     },
     "execution_count": 13,
     "metadata": {},
     "output_type": "execute_result"
    }
   ],
   "source": [
    "df2.info"
   ]
  },
  {
   "cell_type": "code",
   "execution_count": 14,
   "metadata": {
    "scrolled": true
   },
   "outputs": [
    {
     "data": {
      "text/plain": [
       "<bound method DataFrame.info of                          Phrase                      Meaning Is This Accurate?\n",
       "0                  Aanguli kora        Masturbation (female)         (1%) (0%)\n",
       "1                        achuda                       fucker         (1%) (1%)\n",
       "2                           ads                         bull         (9%) (9%)\n",
       "3         Ami tor maa ke chudmu         I will fuck your mum        (10%) (2%)\n",
       "4                          baal                   pubic hair         (1%) (1%)\n",
       "5                   Baal chhero          Tear your ball hair        (9%) (12%)\n",
       "6                          Bara                         Cock        (10%) (1%)\n",
       "7            Beissha Magir Pola          Son of a Prostitute        (10%) (3%)\n",
       "8                          Bhag                       Vagina         (1%) (1%)\n",
       "9                         Bhoda                        Pussy        (10%) (1%)\n",
       "10                    Bokachoda                Stupid fucker        (10%) (0%)\n",
       "11            boltu chire felbo        i will cut your penis        (10%) (3%)\n",
       "12                 botoi khowra                     eat dick        (10%) (3%)\n",
       "13                        Choda                         Fuck        (10%) (2%)\n",
       "14                        Chood                         Fuck        (10%) (4%)\n",
       "15                Chudanir pola         Result of fuck (Son)        (10%) (0%)\n",
       "16                        Chudi                     Fuck you        (10%) (5%)\n",
       "17       Chudmu tor pasai sneha     Prostitute who does anal        (10%) (0%)\n",
       "18                      Chumban                         Kiss         (9%) (5%)\n",
       "19                        Chumu                         Kiss        (10%) (2%)\n",
       "20                         Dhon                         Cock        (10%) (2%)\n",
       "21                  Dhon khecha          Masturbation (male)         (9%) (5%)\n",
       "22                Gaand Maarano        Getting fucked in Ass        (10%) (5%)\n",
       "23                          Gud                       Vagina        (10%) (1%)\n",
       "24                      Humaira                    A fat cow         (1%) (3%)\n",
       "25                       Khanki                   Prostitute        (10%) (0%)\n",
       "26                  khanki Magi                         Slut        (10%) (5%)\n",
       "27                 khankir pola               son of a bitch        (10%) (0%)\n",
       "28                kuttar Baccha               Son of a Bitch         (1%) (3%)\n",
       "29           lehr kawrar bachha           son of a cum eater        (10%) (0%)\n",
       "30                         Mang                        Pussy        (10%) (0%)\n",
       "31                        Naang            Boyfriend of wife        (10%) (3%)\n",
       "32                   pod marani  a girl who is fucked by ass        (10%) (5%)\n",
       "33                         Pond                          Ass         (1%) (1%)\n",
       "34                   Shetar bal         pubic hair of vagina        (10%) (0%)\n",
       "35                      Shishna                        Penis         (1%) (3%)\n",
       "36                       Sohail                  I like dick         (1%) (5%)\n",
       "37  Thor heta muka ath boridimu        i will fist your cunt        (10%) (0%)\n",
       "38               Tor Gaar Maari           I'll fuck your ass        (10%) (5%)\n",
       "39             Tor maa ke chudi             Fuck your mother        (10%) (2%)\n",
       "40                tor mar vhoda              your moms pussy        (10%) (3%)\n",
       "41         tumi bal hagu koro!!          You shit pubic shit         (9%) (7%)\n",
       "42                  Vuuski magi        Nymphomaniac in heat.         (9%) (8%)>"
      ]
     },
     "execution_count": 14,
     "metadata": {},
     "output_type": "execute_result"
    }
   ],
   "source": [
    "df3.info"
   ]
  },
  {
   "cell_type": "code",
   "execution_count": 15,
   "metadata": {},
   "outputs": [
    {
     "data": {
      "text/plain": [
       "<bound method DataFrame.info of                                   Phrase                    Meaning  \\\n",
       "0               \"KUTH-TII\" (or) \"KUTTII\"                      Bitch   \n",
       "1                     AAGA (or) GUUUUUUU                       Shit   \n",
       "2                         amar nunu chat              Suck my dick!   \n",
       "3                   Ami Tumarae Khortham               I Wanna Do U   \n",
       "4                                  Ashiq                 Penis Hair   \n",
       "...                                  ...                        ...   \n",
       "1339  Toomaray tattay baraay pahraay heh  Youe balls are very heavy   \n",
       "1340         tu tho meri chod ki tara :P   you look like my dick :P   \n",
       "1341                        Uloo Ki Pata              Son of An Owl   \n",
       "1342                        Uloo Ki Pati         Daughter of An Owl   \n",
       "1343                            ulu chod                 owl fucker   \n",
       "\n",
       "     Is This Accurate? aand  \n",
       "0            (0%) (0%)  NaN  \n",
       "1            (1%) (0%)  NaN  \n",
       "2            (1%) (1%)  NaN  \n",
       "3            (0%) (0%)  NaN  \n",
       "4           (7%) (26%)  NaN  \n",
       "...                ...  ...  \n",
       "1339         (1%) (1%)  NaN  \n",
       "1340        (10%) (3%)  NaN  \n",
       "1341         (1%) (1%)  NaN  \n",
       "1342         (1%) (1%)  NaN  \n",
       "1343         (1%) (1%)  NaN  \n",
       "\n",
       "[1344 rows x 4 columns]>"
      ]
     },
     "execution_count": 15,
     "metadata": {},
     "output_type": "execute_result"
    }
   ],
   "source": [
    "finaldf.info"
   ]
  },
  {
   "cell_type": "code",
   "execution_count": 16,
   "metadata": {},
   "outputs": [
    {
     "data": {
      "text/plain": [
       "(1344, 4)"
      ]
     },
     "execution_count": 16,
     "metadata": {},
     "output_type": "execute_result"
    }
   ],
   "source": [
    "finaldf.shape"
   ]
  },
  {
   "cell_type": "code",
   "execution_count": 17,
   "metadata": {},
   "outputs": [
    {
     "data": {
      "text/html": [
       "<div>\n",
       "<style scoped>\n",
       "    .dataframe tbody tr th:only-of-type {\n",
       "        vertical-align: middle;\n",
       "    }\n",
       "\n",
       "    .dataframe tbody tr th {\n",
       "        vertical-align: top;\n",
       "    }\n",
       "\n",
       "    .dataframe thead th {\n",
       "        text-align: right;\n",
       "    }\n",
       "</style>\n",
       "<table border=\"1\" class=\"dataframe\">\n",
       "  <thead>\n",
       "    <tr style=\"text-align: right;\">\n",
       "      <th></th>\n",
       "      <th>Phrase</th>\n",
       "      <th>Meaning</th>\n",
       "      <th>Is This Accurate?</th>\n",
       "      <th>aand</th>\n",
       "    </tr>\n",
       "  </thead>\n",
       "  <tbody>\n",
       "    <tr>\n",
       "      <th>count</th>\n",
       "      <td>1249</td>\n",
       "      <td>1249</td>\n",
       "      <td>1249</td>\n",
       "      <td>95</td>\n",
       "    </tr>\n",
       "    <tr>\n",
       "      <th>unique</th>\n",
       "      <td>1249</td>\n",
       "      <td>941</td>\n",
       "      <td>42</td>\n",
       "      <td>95</td>\n",
       "    </tr>\n",
       "    <tr>\n",
       "      <th>top</th>\n",
       "      <td>kukka sulli</td>\n",
       "      <td>Dick</td>\n",
       "      <td>(1%) (0%)</td>\n",
       "      <td>chooche</td>\n",
       "    </tr>\n",
       "    <tr>\n",
       "      <th>freq</th>\n",
       "      <td>1</td>\n",
       "      <td>17</td>\n",
       "      <td>187</td>\n",
       "      <td>1</td>\n",
       "    </tr>\n",
       "  </tbody>\n",
       "</table>\n",
       "</div>"
      ],
      "text/plain": [
       "             Phrase Meaning Is This Accurate?     aand\n",
       "count          1249    1249              1249       95\n",
       "unique         1249     941                42       95\n",
       "top     kukka sulli    Dick         (1%) (0%)  chooche\n",
       "freq              1      17               187        1"
      ]
     },
     "execution_count": 17,
     "metadata": {},
     "output_type": "execute_result"
    }
   ],
   "source": [
    "finaldf.describe()"
   ]
  },
  {
   "cell_type": "code",
   "execution_count": 18,
   "metadata": {},
   "outputs": [],
   "source": [
    "finaldf.drop(['Meaning','Is This Accurate?','aand'],\n",
    "  axis='columns', inplace=True)"
   ]
  },
  {
   "cell_type": "code",
   "execution_count": 19,
   "metadata": {},
   "outputs": [
    {
     "data": {
      "text/html": [
       "<div>\n",
       "<style scoped>\n",
       "    .dataframe tbody tr th:only-of-type {\n",
       "        vertical-align: middle;\n",
       "    }\n",
       "\n",
       "    .dataframe tbody tr th {\n",
       "        vertical-align: top;\n",
       "    }\n",
       "\n",
       "    .dataframe thead th {\n",
       "        text-align: right;\n",
       "    }\n",
       "</style>\n",
       "<table border=\"1\" class=\"dataframe\">\n",
       "  <thead>\n",
       "    <tr style=\"text-align: right;\">\n",
       "      <th></th>\n",
       "      <th>Phrase</th>\n",
       "    </tr>\n",
       "  </thead>\n",
       "  <tbody>\n",
       "    <tr>\n",
       "      <th>0</th>\n",
       "      <td>\"KUTH-TII\" (or) \"KUTTII\"</td>\n",
       "    </tr>\n",
       "    <tr>\n",
       "      <th>1</th>\n",
       "      <td>AAGA (or) GUUUUUUU</td>\n",
       "    </tr>\n",
       "    <tr>\n",
       "      <th>2</th>\n",
       "      <td>amar nunu chat</td>\n",
       "    </tr>\n",
       "    <tr>\n",
       "      <th>3</th>\n",
       "      <td>Ami Tumarae Khortham</td>\n",
       "    </tr>\n",
       "    <tr>\n",
       "      <th>4</th>\n",
       "      <td>Ashiq</td>\n",
       "    </tr>\n",
       "  </tbody>\n",
       "</table>\n",
       "</div>"
      ],
      "text/plain": [
       "                     Phrase\n",
       "0  \"KUTH-TII\" (or) \"KUTTII\"\n",
       "1        AAGA (or) GUUUUUUU\n",
       "2            amar nunu chat\n",
       "3      Ami Tumarae Khortham\n",
       "4                     Ashiq"
      ]
     },
     "execution_count": 19,
     "metadata": {},
     "output_type": "execute_result"
    }
   ],
   "source": [
    "finaldf.head()"
   ]
  },
  {
   "cell_type": "code",
   "execution_count": 20,
   "metadata": {},
   "outputs": [
    {
     "data": {
      "text/plain": [
       "(1344, 1)"
      ]
     },
     "execution_count": 20,
     "metadata": {},
     "output_type": "execute_result"
    }
   ],
   "source": [
    "finaldf.shape"
   ]
  },
  {
   "cell_type": "code",
   "execution_count": 21,
   "metadata": {},
   "outputs": [],
   "source": [
    "#pd.set_option(\"display.max_rows\", None, \"display.max_columns\", None)"
   ]
  },
  {
   "cell_type": "code",
   "execution_count": 22,
   "metadata": {},
   "outputs": [
    {
     "name": "stdout",
     "output_type": "stream",
     "text": [
      "                                  Phrase\n",
      "0               \"KUTH-TII\" (or) \"KUTTII\"\n",
      "1                     AAGA (or) GUUUUUUU\n",
      "2                         amar nunu chat\n",
      "3                   Ami Tumarae Khortham\n",
      "4                                  Ashiq\n",
      "...                                  ...\n",
      "1339  Toomaray tattay baraay pahraay heh\n",
      "1340         tu tho meri chod ki tara :P\n",
      "1341                        Uloo Ki Pata\n",
      "1342                        Uloo Ki Pati\n",
      "1343                            ulu chod\n",
      "\n",
      "[1344 rows x 1 columns]\n"
     ]
    }
   ],
   "source": [
    "print(finaldf)"
   ]
  },
  {
   "cell_type": "code",
   "execution_count": 23,
   "metadata": {},
   "outputs": [
    {
     "data": {
      "text/plain": [
       "(1344, 1)"
      ]
     },
     "execution_count": 23,
     "metadata": {},
     "output_type": "execute_result"
    }
   ],
   "source": [
    "finaldf.shape"
   ]
  },
  {
   "cell_type": "code",
   "execution_count": 24,
   "metadata": {
    "scrolled": false
   },
   "outputs": [],
   "source": [
    "finaldf.drop_duplicates(subset=None, keep='first', inplace=True)"
   ]
  },
  {
   "cell_type": "code",
   "execution_count": 25,
   "metadata": {},
   "outputs": [
    {
     "data": {
      "text/html": [
       "<div>\n",
       "<style scoped>\n",
       "    .dataframe tbody tr th:only-of-type {\n",
       "        vertical-align: middle;\n",
       "    }\n",
       "\n",
       "    .dataframe tbody tr th {\n",
       "        vertical-align: top;\n",
       "    }\n",
       "\n",
       "    .dataframe thead th {\n",
       "        text-align: right;\n",
       "    }\n",
       "</style>\n",
       "<table border=\"1\" class=\"dataframe\">\n",
       "  <thead>\n",
       "    <tr style=\"text-align: right;\">\n",
       "      <th></th>\n",
       "      <th>Phrase</th>\n",
       "    </tr>\n",
       "  </thead>\n",
       "  <tbody>\n",
       "    <tr>\n",
       "      <th>count</th>\n",
       "      <td>1249</td>\n",
       "    </tr>\n",
       "    <tr>\n",
       "      <th>unique</th>\n",
       "      <td>1249</td>\n",
       "    </tr>\n",
       "    <tr>\n",
       "      <th>top</th>\n",
       "      <td>kukka sulli</td>\n",
       "    </tr>\n",
       "    <tr>\n",
       "      <th>freq</th>\n",
       "      <td>1</td>\n",
       "    </tr>\n",
       "  </tbody>\n",
       "</table>\n",
       "</div>"
      ],
      "text/plain": [
       "             Phrase\n",
       "count          1249\n",
       "unique         1249\n",
       "top     kukka sulli\n",
       "freq              1"
      ]
     },
     "execution_count": 25,
     "metadata": {},
     "output_type": "execute_result"
    }
   ],
   "source": [
    "finaldf.describe()"
   ]
  },
  {
   "cell_type": "code",
   "execution_count": 26,
   "metadata": {},
   "outputs": [
    {
     "data": {
      "text/html": [
       "<div>\n",
       "<style scoped>\n",
       "    .dataframe tbody tr th:only-of-type {\n",
       "        vertical-align: middle;\n",
       "    }\n",
       "\n",
       "    .dataframe tbody tr th {\n",
       "        vertical-align: top;\n",
       "    }\n",
       "\n",
       "    .dataframe thead th {\n",
       "        text-align: right;\n",
       "    }\n",
       "</style>\n",
       "<table border=\"1\" class=\"dataframe\">\n",
       "  <thead>\n",
       "    <tr style=\"text-align: right;\">\n",
       "      <th></th>\n",
       "      <th>Phrase</th>\n",
       "    </tr>\n",
       "  </thead>\n",
       "  <tbody>\n",
       "    <tr>\n",
       "      <th>0</th>\n",
       "      <td>\"KUTH-TII\" (or) \"KUTTII\"</td>\n",
       "    </tr>\n",
       "    <tr>\n",
       "      <th>1</th>\n",
       "      <td>AAGA (or) GUUUUUUU</td>\n",
       "    </tr>\n",
       "    <tr>\n",
       "      <th>2</th>\n",
       "      <td>amar nunu chat</td>\n",
       "    </tr>\n",
       "    <tr>\n",
       "      <th>3</th>\n",
       "      <td>Ami Tumarae Khortham</td>\n",
       "    </tr>\n",
       "    <tr>\n",
       "      <th>4</th>\n",
       "      <td>Ashiq</td>\n",
       "    </tr>\n",
       "    <tr>\n",
       "      <th>...</th>\n",
       "      <td>...</td>\n",
       "    </tr>\n",
       "    <tr>\n",
       "      <th>1339</th>\n",
       "      <td>Toomaray tattay baraay pahraay heh</td>\n",
       "    </tr>\n",
       "    <tr>\n",
       "      <th>1340</th>\n",
       "      <td>tu tho meri chod ki tara :P</td>\n",
       "    </tr>\n",
       "    <tr>\n",
       "      <th>1341</th>\n",
       "      <td>Uloo Ki Pata</td>\n",
       "    </tr>\n",
       "    <tr>\n",
       "      <th>1342</th>\n",
       "      <td>Uloo Ki Pati</td>\n",
       "    </tr>\n",
       "    <tr>\n",
       "      <th>1343</th>\n",
       "      <td>ulu chod</td>\n",
       "    </tr>\n",
       "  </tbody>\n",
       "</table>\n",
       "<p>1250 rows × 1 columns</p>\n",
       "</div>"
      ],
      "text/plain": [
       "                                  Phrase\n",
       "0               \"KUTH-TII\" (or) \"KUTTII\"\n",
       "1                     AAGA (or) GUUUUUUU\n",
       "2                         amar nunu chat\n",
       "3                   Ami Tumarae Khortham\n",
       "4                                  Ashiq\n",
       "...                                  ...\n",
       "1339  Toomaray tattay baraay pahraay heh\n",
       "1340         tu tho meri chod ki tara :P\n",
       "1341                        Uloo Ki Pata\n",
       "1342                        Uloo Ki Pati\n",
       "1343                            ulu chod\n",
       "\n",
       "[1250 rows x 1 columns]"
      ]
     },
     "execution_count": 26,
     "metadata": {},
     "output_type": "execute_result"
    }
   ],
   "source": [
    "finaldf"
   ]
  },
  {
   "cell_type": "code",
   "execution_count": 27,
   "metadata": {},
   "outputs": [
    {
     "data": {
      "text/html": [
       "<div>\n",
       "<style scoped>\n",
       "    .dataframe tbody tr th:only-of-type {\n",
       "        vertical-align: middle;\n",
       "    }\n",
       "\n",
       "    .dataframe tbody tr th {\n",
       "        vertical-align: top;\n",
       "    }\n",
       "\n",
       "    .dataframe thead th {\n",
       "        text-align: right;\n",
       "    }\n",
       "</style>\n",
       "<table border=\"1\" class=\"dataframe\">\n",
       "  <thead>\n",
       "    <tr style=\"text-align: right;\">\n",
       "      <th></th>\n",
       "      <th>Phrase</th>\n",
       "    </tr>\n",
       "  </thead>\n",
       "  <tbody>\n",
       "    <tr>\n",
       "      <th>0</th>\n",
       "      <td>\"KUTH-TII\" (or) \"KUTTII\"</td>\n",
       "    </tr>\n",
       "    <tr>\n",
       "      <th>1</th>\n",
       "      <td>AAGA (or) GUUUUUUU</td>\n",
       "    </tr>\n",
       "    <tr>\n",
       "      <th>2</th>\n",
       "      <td>amar nunu chat</td>\n",
       "    </tr>\n",
       "    <tr>\n",
       "      <th>3</th>\n",
       "      <td>Ami Tumarae Khortham</td>\n",
       "    </tr>\n",
       "    <tr>\n",
       "      <th>4</th>\n",
       "      <td>Ashiq</td>\n",
       "    </tr>\n",
       "    <tr>\n",
       "      <th>...</th>\n",
       "      <td>...</td>\n",
       "    </tr>\n",
       "    <tr>\n",
       "      <th>1339</th>\n",
       "      <td>Toomaray tattay baraay pahraay heh</td>\n",
       "    </tr>\n",
       "    <tr>\n",
       "      <th>1340</th>\n",
       "      <td>tu tho meri chod ki tara :P</td>\n",
       "    </tr>\n",
       "    <tr>\n",
       "      <th>1341</th>\n",
       "      <td>Uloo Ki Pata</td>\n",
       "    </tr>\n",
       "    <tr>\n",
       "      <th>1342</th>\n",
       "      <td>Uloo Ki Pati</td>\n",
       "    </tr>\n",
       "    <tr>\n",
       "      <th>1343</th>\n",
       "      <td>ulu chod</td>\n",
       "    </tr>\n",
       "  </tbody>\n",
       "</table>\n",
       "<p>1249 rows × 1 columns</p>\n",
       "</div>"
      ],
      "text/plain": [
       "                                  Phrase\n",
       "0               \"KUTH-TII\" (or) \"KUTTII\"\n",
       "1                     AAGA (or) GUUUUUUU\n",
       "2                         amar nunu chat\n",
       "3                   Ami Tumarae Khortham\n",
       "4                                  Ashiq\n",
       "...                                  ...\n",
       "1339  Toomaray tattay baraay pahraay heh\n",
       "1340         tu tho meri chod ki tara :P\n",
       "1341                        Uloo Ki Pata\n",
       "1342                        Uloo Ki Pati\n",
       "1343                            ulu chod\n",
       "\n",
       "[1249 rows x 1 columns]"
      ]
     },
     "execution_count": 27,
     "metadata": {},
     "output_type": "execute_result"
    }
   ],
   "source": [
    "finaldf.dropna()"
   ]
  },
  {
   "cell_type": "code",
   "execution_count": 28,
   "metadata": {},
   "outputs": [],
   "source": [
    "finaldf.reset_index(inplace=True)"
   ]
  },
  {
   "cell_type": "code",
   "execution_count": 29,
   "metadata": {},
   "outputs": [
    {
     "data": {
      "text/html": [
       "<div>\n",
       "<style scoped>\n",
       "    .dataframe tbody tr th:only-of-type {\n",
       "        vertical-align: middle;\n",
       "    }\n",
       "\n",
       "    .dataframe tbody tr th {\n",
       "        vertical-align: top;\n",
       "    }\n",
       "\n",
       "    .dataframe thead th {\n",
       "        text-align: right;\n",
       "    }\n",
       "</style>\n",
       "<table border=\"1\" class=\"dataframe\">\n",
       "  <thead>\n",
       "    <tr style=\"text-align: right;\">\n",
       "      <th></th>\n",
       "      <th>index</th>\n",
       "      <th>Phrase</th>\n",
       "    </tr>\n",
       "  </thead>\n",
       "  <tbody>\n",
       "    <tr>\n",
       "      <th>0</th>\n",
       "      <td>0</td>\n",
       "      <td>\"KUTH-TII\" (or) \"KUTTII\"</td>\n",
       "    </tr>\n",
       "    <tr>\n",
       "      <th>1</th>\n",
       "      <td>1</td>\n",
       "      <td>AAGA (or) GUUUUUUU</td>\n",
       "    </tr>\n",
       "    <tr>\n",
       "      <th>2</th>\n",
       "      <td>2</td>\n",
       "      <td>amar nunu chat</td>\n",
       "    </tr>\n",
       "    <tr>\n",
       "      <th>3</th>\n",
       "      <td>3</td>\n",
       "      <td>Ami Tumarae Khortham</td>\n",
       "    </tr>\n",
       "    <tr>\n",
       "      <th>4</th>\n",
       "      <td>4</td>\n",
       "      <td>Ashiq</td>\n",
       "    </tr>\n",
       "    <tr>\n",
       "      <th>...</th>\n",
       "      <td>...</td>\n",
       "      <td>...</td>\n",
       "    </tr>\n",
       "    <tr>\n",
       "      <th>1245</th>\n",
       "      <td>1339</td>\n",
       "      <td>Toomaray tattay baraay pahraay heh</td>\n",
       "    </tr>\n",
       "    <tr>\n",
       "      <th>1246</th>\n",
       "      <td>1340</td>\n",
       "      <td>tu tho meri chod ki tara :P</td>\n",
       "    </tr>\n",
       "    <tr>\n",
       "      <th>1247</th>\n",
       "      <td>1341</td>\n",
       "      <td>Uloo Ki Pata</td>\n",
       "    </tr>\n",
       "    <tr>\n",
       "      <th>1248</th>\n",
       "      <td>1342</td>\n",
       "      <td>Uloo Ki Pati</td>\n",
       "    </tr>\n",
       "    <tr>\n",
       "      <th>1249</th>\n",
       "      <td>1343</td>\n",
       "      <td>ulu chod</td>\n",
       "    </tr>\n",
       "  </tbody>\n",
       "</table>\n",
       "<p>1250 rows × 2 columns</p>\n",
       "</div>"
      ],
      "text/plain": [
       "      index                              Phrase\n",
       "0         0            \"KUTH-TII\" (or) \"KUTTII\"\n",
       "1         1                  AAGA (or) GUUUUUUU\n",
       "2         2                      amar nunu chat\n",
       "3         3                Ami Tumarae Khortham\n",
       "4         4                               Ashiq\n",
       "...     ...                                 ...\n",
       "1245   1339  Toomaray tattay baraay pahraay heh\n",
       "1246   1340         tu tho meri chod ki tara :P\n",
       "1247   1341                        Uloo Ki Pata\n",
       "1248   1342                        Uloo Ki Pati\n",
       "1249   1343                            ulu chod\n",
       "\n",
       "[1250 rows x 2 columns]"
      ]
     },
     "execution_count": 29,
     "metadata": {},
     "output_type": "execute_result"
    }
   ],
   "source": [
    "finaldf"
   ]
  },
  {
   "cell_type": "code",
   "execution_count": 36,
   "metadata": {},
   "outputs": [],
   "source": [
    "#err\n",
    "#finaldf.drop(\"index\",axis='columns', inplace=True)"
   ]
  },
  {
   "cell_type": "code",
   "execution_count": 37,
   "metadata": {},
   "outputs": [
    {
     "data": {
      "text/html": [
       "<div>\n",
       "<style scoped>\n",
       "    .dataframe tbody tr th:only-of-type {\n",
       "        vertical-align: middle;\n",
       "    }\n",
       "\n",
       "    .dataframe tbody tr th {\n",
       "        vertical-align: top;\n",
       "    }\n",
       "\n",
       "    .dataframe thead th {\n",
       "        text-align: right;\n",
       "    }\n",
       "</style>\n",
       "<table border=\"1\" class=\"dataframe\">\n",
       "  <thead>\n",
       "    <tr style=\"text-align: right;\">\n",
       "      <th></th>\n",
       "      <th>Phrase</th>\n",
       "    </tr>\n",
       "  </thead>\n",
       "  <tbody>\n",
       "    <tr>\n",
       "      <th>0</th>\n",
       "      <td>\"KUTH-TII\" (or) \"KUTTII\"</td>\n",
       "    </tr>\n",
       "    <tr>\n",
       "      <th>1</th>\n",
       "      <td>AAGA (or) GUUUUUUU</td>\n",
       "    </tr>\n",
       "    <tr>\n",
       "      <th>2</th>\n",
       "      <td>amar nunu chat</td>\n",
       "    </tr>\n",
       "    <tr>\n",
       "      <th>3</th>\n",
       "      <td>Ami Tumarae Khortham</td>\n",
       "    </tr>\n",
       "    <tr>\n",
       "      <th>4</th>\n",
       "      <td>Ashiq</td>\n",
       "    </tr>\n",
       "    <tr>\n",
       "      <th>...</th>\n",
       "      <td>...</td>\n",
       "    </tr>\n",
       "    <tr>\n",
       "      <th>1245</th>\n",
       "      <td>Toomaray tattay baraay pahraay heh</td>\n",
       "    </tr>\n",
       "    <tr>\n",
       "      <th>1246</th>\n",
       "      <td>tu tho meri chod ki tara :P</td>\n",
       "    </tr>\n",
       "    <tr>\n",
       "      <th>1247</th>\n",
       "      <td>Uloo Ki Pata</td>\n",
       "    </tr>\n",
       "    <tr>\n",
       "      <th>1248</th>\n",
       "      <td>Uloo Ki Pati</td>\n",
       "    </tr>\n",
       "    <tr>\n",
       "      <th>1249</th>\n",
       "      <td>ulu chod</td>\n",
       "    </tr>\n",
       "  </tbody>\n",
       "</table>\n",
       "<p>1250 rows × 1 columns</p>\n",
       "</div>"
      ],
      "text/plain": [
       "                                  Phrase\n",
       "0               \"KUTH-TII\" (or) \"KUTTII\"\n",
       "1                     AAGA (or) GUUUUUUU\n",
       "2                         amar nunu chat\n",
       "3                   Ami Tumarae Khortham\n",
       "4                                  Ashiq\n",
       "...                                  ...\n",
       "1245  Toomaray tattay baraay pahraay heh\n",
       "1246         tu tho meri chod ki tara :P\n",
       "1247                        Uloo Ki Pata\n",
       "1248                        Uloo Ki Pati\n",
       "1249                            ulu chod\n",
       "\n",
       "[1250 rows x 1 columns]"
      ]
     },
     "execution_count": 37,
     "metadata": {},
     "output_type": "execute_result"
    }
   ],
   "source": [
    "finaldf"
   ]
  },
  {
   "cell_type": "code",
   "execution_count": null,
   "metadata": {},
   "outputs": [],
   "source": []
  }
 ],
 "metadata": {
  "kernelspec": {
   "display_name": "Python 3",
   "language": "python",
   "name": "python3"
  },
  "language_info": {
   "codemirror_mode": {
    "name": "ipython",
    "version": 3
   },
   "file_extension": ".py",
   "mimetype": "text/x-python",
   "name": "python",
   "nbconvert_exporter": "python",
   "pygments_lexer": "ipython3",
   "version": "3.8.5"
  }
 },
 "nbformat": 4,
 "nbformat_minor": 4
}
